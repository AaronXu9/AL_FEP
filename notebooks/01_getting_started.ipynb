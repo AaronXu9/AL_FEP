{
 "cells": [
  {
   "cell_type": "markdown",
   "id": "e763f815",
   "metadata": {},
   "source": [
    "# Getting Started with AL-FEP\n",
    "\n",
    "This notebook demonstrates the basic usage of the AL-FEP framework for active learning and reinforcement learning in molecular virtual screening.\n",
    "\n",
    "## Overview\n",
    "\n",
    "The AL-FEP framework provides:\n",
    "- **Multiple Oracles**: FEP, Docking, and ML-FEP for molecular evaluation\n",
    "- **Active Learning**: Intelligent molecular selection strategies\n",
    "- **Reinforcement Learning**: Agent-based molecular discovery\n",
    "- **Target-specific optimization**: Pre-configured for 7JVR (SARS-CoV-2 Main Protease)"
   ]
  },
  {
   "cell_type": "code",
   "execution_count": null,
   "id": "96fdb6d3",
   "metadata": {},
   "outputs": [],
   "source": [
    "# Import necessary libraries\n",
    "import sys\n",
    "import os\n",
    "\n",
    "# Add src to path\n",
    "sys.path.append('../src')\n",
    "\n",
    "import numpy as np\n",
    "import pandas as pd\n",
    "import matplotlib.pyplot as plt\n",
    "import seaborn as sns\n",
    "\n",
    "# AL-FEP imports\n",
    "from al_fep import (\n",
    "    FEPOracle, DockingOracle, MLFEPOracle,\n",
    "    ActiveLearningPipeline,\n",
    "    MolecularDataset,\n",
    "    setup_logging, load_config\n",
    ")\n",
    "\n",
    "# Setup logging\n",
    "setup_logging(level=\"INFO\")\n",
    "\n",
    "print(\"AL-FEP framework loaded successfully!\")"
   ]
  },
  {
   "cell_type": "markdown",
   "id": "b3222560",
   "metadata": {},
   "source": [
    "## Configuration Setup\n",
    "\n",
    "Load the configuration for the 7JVR target:"
   ]
  },
  {
   "cell_type": "code",
   "execution_count": null,
   "id": "59874b01",
   "metadata": {},
   "outputs": [],
   "source": [
    "# Load configuration\n",
    "config = load_config(\n",
    "    '../config/targets/7jvr.yaml',\n",
    "    '../config/default.yaml'\n",
    ")\n",
    "\n",
    "print(\"Configuration loaded for target:\", config.get('target_info', {}).get('name'))\n",
    "print(\"PDB ID:\", config.get('target_info', {}).get('pdb_id'))\n",
    "print(\"Binding site center:\", config.get('binding_site', {}).get('center'))"
   ]
  },
  {
   "cell_type": "markdown",
   "id": "dfe0e4cc",
   "metadata": {},
   "source": [
    "## Oracle Setup\n",
    "\n",
    "Initialize the different oracles for molecular evaluation:"
   ]
  },
  {
   "cell_type": "code",
   "execution_count": null,
   "id": "0d6248c0",
   "metadata": {},
   "outputs": [],
   "source": [
    "# Initialize oracles\n",
    "print(\"Initializing oracles...\")\n",
    "\n",
    "# ML-FEP Oracle (fast, low-cost predictions)\n",
    "ml_fep_oracle = MLFEPOracle(\n",
    "    target=\"7jvr\",\n",
    "    config=config\n",
    ")\n",
    "\n",
    "# Note: FEP and Docking oracles require additional setup\n",
    "# For this demo, we'll focus on ML-FEP\n",
    "\n",
    "print(f\"ML-FEP Oracle initialized: {ml_fep_oracle}\")"
   ]
  },
  {
   "cell_type": "markdown",
   "id": "c0b60c66",
   "metadata": {},
   "source": [
    "## Molecular Dataset\n",
    "\n",
    "Create a molecular dataset for evaluation:"
   ]
  },
  {
   "cell_type": "code",
   "execution_count": null,
   "id": "01df8774",
   "metadata": {},
   "outputs": [],
   "source": [
    "# Example SMILES for drug-like molecules\n",
    "example_smiles = [\n",
    "    \"CC(C)CC(NC(=O)C(NC(=O)OC(C)(C)C)C(C)C)C(=O)NC1CCCCC1\",  # Peptidomimetic\n",
    "    \"CCN(CC)CCCC(C)NC1=C2N=CC=NC2=NC=N1\",  # Purine derivative\n",
    "    \"CC1=CC=C(C=C1)C(=O)NC2=CC=C(C=C2)S(=O)(=O)N\",  # Sulfonamide\n",
    "    \"COC1=CC=C(C=C1)C(=O)NC2=CC=CC=N2\",  # Benzamide\n",
    "    \"CC(C)(C)OC(=O)NC1CCN(C1)C(=O)C2=CC=C(C=C2)F\",  # Fluorinated compound\n",
    "    \"C1=CC=C(C=C1)C(=O)NC2=CC=C(C=C2)C(=O)O\",  # Benzoic acid derivative\n",
    "    \"CC1=CC=C(C=C1)S(=O)(=O)NC2=CC=C(C=C2)C(=O)N\",  # Sulfonamide\n",
    "    \"COC1=CC=C2C(=C1)N=CN2C3CCNCC3\",  # Benzimidazole\n",
    "    \"CC(C)NC1=NC=NC2=C1C=CC=C2\",  # Quinazoline\n",
    "    \"CC1=CC=C(C=C1)C(=O)NC2=CC=C(C=C2)OC\",  # Methoxy benzamide\n",
    "]\n",
    "\n",
    "# Create molecular dataset\n",
    "dataset = MolecularDataset(\n",
    "    smiles=example_smiles,\n",
    "    name=\"Example_7JVR_Molecules\"\n",
    ")\n",
    "\n",
    "# Calculate molecular descriptors\n",
    "dataset.calculate_descriptors()\n",
    "\n",
    "print(f\"Dataset created with {len(dataset)} molecules\")\n",
    "print(\"\\nDataset preview:\")\n",
    "display(dataset.data.head())"
   ]
  },
  {
   "cell_type": "markdown",
   "id": "cc967772",
   "metadata": {},
   "source": [
    "## Oracle Evaluation\n",
    "\n",
    "Evaluate molecules using the ML-FEP oracle:"
   ]
  },
  {
   "cell_type": "code",
   "execution_count": null,
   "id": "0258d1be",
   "metadata": {},
   "outputs": [],
   "source": [
    "# Evaluate molecules with ML-FEP oracle\n",
    "print(\"Evaluating molecules with ML-FEP oracle...\")\n",
    "\n",
    "smiles_list = dataset.get_smiles()\n",
    "results = ml_fep_oracle.evaluate(smiles_list)\n",
    "\n",
    "# Create results DataFrame\n",
    "results_df = pd.DataFrame(results)\n",
    "\n",
    "print(\"\\nEvaluation results:\")\n",
    "display(results_df[['smiles', 'score', 'ml_fep_score', 'uncertainty', 'confidence']].head())\n",
    "\n",
    "# Show oracle statistics\n",
    "print(\"\\nOracle statistics:\")\n",
    "stats = ml_fep_oracle.get_statistics()\n",
    "for key, value in stats.items():\n",
    "    print(f\"{key}: {value}\")"
   ]
  },
  {
   "cell_type": "markdown",
   "id": "c1d1830b",
   "metadata": {},
   "source": [
    "## Visualization\n",
    "\n",
    "Visualize the evaluation results:"
   ]
  },
  {
   "cell_type": "code",
   "execution_count": null,
   "id": "0e9eeaab",
   "metadata": {},
   "outputs": [],
   "source": [
    "# Create visualizations\n",
    "fig, axes = plt.subplots(2, 2, figsize=(12, 10))\n",
    "\n",
    "# Score distribution\n",
    "axes[0, 0].hist(results_df['score'].dropna(), bins=10, alpha=0.7)\n",
    "axes[0, 0].set_title('ML-FEP Score Distribution')\n",
    "axes[0, 0].set_xlabel('Score')\n",
    "axes[0, 0].set_ylabel('Frequency')\n",
    "\n",
    "# Uncertainty vs Score\n",
    "axes[0, 1].scatter(results_df['uncertainty'], results_df['score'], alpha=0.7)\n",
    "axes[0, 1].set_title('Uncertainty vs Score')\n",
    "axes[0, 1].set_xlabel('Uncertainty')\n",
    "axes[0, 1].set_ylabel('Score')\n",
    "\n",
    "# Confidence distribution\n",
    "axes[1, 0].hist(results_df['confidence'].dropna(), bins=10, alpha=0.7)\n",
    "axes[1, 0].set_title('Confidence Distribution')\n",
    "axes[1, 0].set_xlabel('Confidence')\n",
    "axes[1, 0].set_ylabel('Frequency')\n",
    "\n",
    "# Score vs Molecular Weight (from dataset)\n",
    "merged_df = pd.merge(\n",
    "    results_df[['smiles', 'score']], \n",
    "    dataset.data[['smiles', 'MolWt']], \n",
    "    on='smiles'\n",
    ")\n",
    "axes[1, 1].scatter(merged_df['MolWt'], merged_df['score'], alpha=0.7)\n",
    "axes[1, 1].set_title('Score vs Molecular Weight')\n",
    "axes[1, 1].set_xlabel('Molecular Weight')\n",
    "axes[1, 1].set_ylabel('Score')\n",
    "\n",
    "plt.tight_layout()\n",
    "plt.show()"
   ]
  },
  {
   "cell_type": "markdown",
   "id": "a76a5ac0",
   "metadata": {},
   "source": [
    "## Active Learning Demo\n",
    "\n",
    "Demonstrate active learning with uncertainty sampling:"
   ]
  },
  {
   "cell_type": "code",
   "execution_count": null,
   "id": "ab62bc0f",
   "metadata": {},
   "outputs": [],
   "source": [
    "# Create active learning pipeline\n",
    "al_pipeline = ActiveLearningPipeline(\n",
    "    oracles=[ml_fep_oracle],\n",
    "    strategy=\"uncertainty_sampling\",\n",
    "    batch_size=3,\n",
    "    max_iterations=5,\n",
    "    config=config\n",
    ")\n",
    "\n",
    "# Load molecular pool\n",
    "al_pipeline.load_molecular_pool(smiles_list)\n",
    "\n",
    "print(f\"Active learning pipeline created with {len(al_pipeline.molecular_pool)} molecules\")\n",
    "\n",
    "# Run active learning\n",
    "print(\"\\nRunning active learning...\")\n",
    "final_results = al_pipeline.run()\n",
    "\n",
    "print(f\"\\nActive learning completed!\")\n",
    "print(f\"Total iterations: {final_results['total_iterations']}\")\n",
    "print(f\"Total evaluated: {final_results['total_evaluated']}\")\n",
    "\n",
    "# Show best molecules\n",
    "print(\"\\nTop 5 molecules found:\")\n",
    "best_molecules = final_results['best_molecules']\n",
    "for i, mol in enumerate(best_molecules[:5], 1):\n",
    "    print(f\"{i}. Score: {mol.get('ml-fep_score', 0):.3f} - {mol['smiles'][:50]}...\")"
   ]
  },
  {
   "cell_type": "markdown",
   "id": "e359cb58",
   "metadata": {},
   "source": [
    "## Feature Importance Analysis\n",
    "\n",
    "Analyze which molecular features are most important for the ML-FEP predictions:"
   ]
  },
  {
   "cell_type": "code",
   "execution_count": null,
   "id": "780134e7",
   "metadata": {},
   "outputs": [],
   "source": [
    "# Get feature importance from ML-FEP oracle\n",
    "feature_importance = ml_fep_oracle.get_feature_importance()\n",
    "\n",
    "if feature_importance:\n",
    "    # Create feature importance plot\n",
    "    features = list(feature_importance.keys())\n",
    "    importance = list(feature_importance.values())\n",
    "    \n",
    "    plt.figure(figsize=(10, 6))\n",
    "    plt.barh(features, importance)\n",
    "    plt.title('Feature Importance in ML-FEP Model')\n",
    "    plt.xlabel('Importance')\n",
    "    plt.tight_layout()\n",
    "    plt.show()\n",
    "    \n",
    "    print(\"\\nTop 5 most important features:\")\n",
    "    sorted_features = sorted(feature_importance.items(), key=lambda x: x[1], reverse=True)\n",
    "    for feature, importance in sorted_features[:5]:\n",
    "        print(f\"{feature}: {importance:.4f}\")\n",
    "else:\n",
    "    print(\"Feature importance not available\")"
   ]
  },
  {
   "cell_type": "markdown",
   "id": "68ac73f8",
   "metadata": {},
   "source": [
    "## Conclusion\n",
    "\n",
    "This notebook demonstrated:\n",
    "\n",
    "1. **Oracle Setup**: Initialized ML-FEP oracle for fast molecular evaluation\n",
    "2. **Molecular Dataset**: Created and processed molecular datasets\n",
    "3. **Evaluation**: Evaluated molecules and analyzed uncertainty\n",
    "4. **Active Learning**: Demonstrated uncertainty-based molecular selection\n",
    "5. **Analysis**: Visualized results and feature importance\n",
    "\n",
    "## Next Steps\n",
    "\n",
    "- Set up FEP and Docking oracles with appropriate receptor files\n",
    "- Implement reinforcement learning agents\n",
    "- Use larger molecular databases (ChEMBL, ZINC)\n",
    "- Optimize for specific 7JVR binding properties\n",
    "- Compare different active learning strategies"
   ]
  }
 ],
 "metadata": {
  "language_info": {
   "name": "python"
  }
 },
 "nbformat": 4,
 "nbformat_minor": 5
}
